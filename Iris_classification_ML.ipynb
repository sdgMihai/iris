{
  "nbformat": 4,
  "nbformat_minor": 0,
  "metadata": {
    "colab": {
      "name": "Iris - classification ML.ipynb",
      "provenance": [],
      "collapsed_sections": [],
      "mount_file_id": "1IcmED6eWo4qvTw5BaK3pVOOf3YSQFkTt",
      "authorship_tag": "ABX9TyPrR15McOs8zMSxUnxUhZaZ",
      "include_colab_link": true
    },
    "kernelspec": {
      "name": "python3",
      "display_name": "Python 3"
    },
    "language_info": {
      "name": "python"
    }
  },
  "cells": [
    {
      "cell_type": "markdown",
      "metadata": {
        "id": "view-in-github",
        "colab_type": "text"
      },
      "source": [
        "<a href=\"https://colab.research.google.com/github/sdgMihai/iris/blob/main/Iris_classification_ML.ipynb\" target=\"_parent\"><img src=\"https://colab.research.google.com/assets/colab-badge.svg\" alt=\"Open In Colab\"/></a>"
      ]
    },
    {
      "cell_type": "markdown",
      "metadata": {
        "id": "i2dyuokmWTTk"
      },
      "source": [
        "\n",
        "\n",
        "```\n",
        "IRIS DATASET\n",
        "```\n",
        "\n"
      ]
    },
    {
      "cell_type": "code",
      "metadata": {
        "colab": {
          "base_uri": "https://localhost:8080/"
        },
        "id": "vEUZCYuZUN8j",
        "outputId": "5d152740-6405-4d48-9f5d-9066f37a680b"
      },
      "source": [
        "\n",
        "\n",
        "# required libraries\n",
        "import pandas as pd\n",
        "from sklearn.linear_model import LogisticRegression\n",
        "from sklearn.model_selection import train_test_split\n",
        "from sklearn.preprocessing import LabelEncoder\n",
        "from sklearn.metrics import accuracy_score\n",
        "\n",
        "\n",
        "# read the dataset\n",
        "data = pd.read_csv('/content/drive/MyDrive/facultate/master/ibd/proiect/iris.csv')\n",
        "print(data.head())\n",
        "\n",
        "print('\\n\\nColumn Names\\n\\n')\n",
        "print(data.columns)\n",
        "\n",
        "#label encode the target variable\n",
        "encode = LabelEncoder()\n",
        "data.Species = encode.fit_transform(data.Species)\n",
        "\n",
        "print(data.head())\n",
        "\n",
        "# train-test-split   \n",
        "train , test = train_test_split(data,test_size=0.2,random_state=0)\n",
        "\n",
        "print('shape of training data : ',train.shape)\n",
        "print('shape of testing data',test.shape)\n",
        "\n",
        "# seperate the target and independent variable\n",
        "train_x = train.drop(columns=['Species'],axis=1)\n",
        "train_y = train['Species']\n",
        "\n",
        "test_x = test.drop(columns=['Species'],axis=1)\n",
        "test_y = test['Species']\n",
        "\n",
        "# create the object of the model\n",
        "model = LogisticRegression(max_iter=200)\n",
        "\n",
        "model.fit(train_x,train_y)\n",
        "\n",
        "predict = model.predict(test_x)\n",
        "\n",
        "print('Predicted Values on Test Data',encode.inverse_transform(predict))\n",
        "\n",
        "print('\\n\\nAccuracy Score on test data : \\n\\n')\n",
        "print(accuracy_score(test_y,predict))\n"
      ],
      "execution_count": 9,
      "outputs": [
        {
          "output_type": "stream",
          "name": "stdout",
          "text": [
            "   SepalLengthCm  SepalWidthCm  PetalLengthCm  PetalWidthCm      Species\n",
            "0            5.1           3.5            1.4           0.2  Iris-setosa\n",
            "1            4.9           3.0            1.4           0.2  Iris-setosa\n",
            "2            4.7           3.2            1.3           0.2  Iris-setosa\n",
            "3            4.6           3.1            1.5           0.2  Iris-setosa\n",
            "4            5.0           3.6            1.4           0.2  Iris-setosa\n",
            "\n",
            "\n",
            "Column Names\n",
            "\n",
            "\n",
            "Index(['SepalLengthCm', 'SepalWidthCm', 'PetalLengthCm', 'PetalWidthCm',\n",
            "       'Species'],\n",
            "      dtype='object')\n",
            "   SepalLengthCm  SepalWidthCm  PetalLengthCm  PetalWidthCm  Species\n",
            "0            5.1           3.5            1.4           0.2        0\n",
            "1            4.9           3.0            1.4           0.2        0\n",
            "2            4.7           3.2            1.3           0.2        0\n",
            "3            4.6           3.1            1.5           0.2        0\n",
            "4            5.0           3.6            1.4           0.2        0\n",
            "shape of training data :  (120, 5)\n",
            "shape of testing data (30, 5)\n",
            "Predicted Values on Test Data ['Iris-virginica' 'Iris-versicolor' 'Iris-setosa' 'Iris-virginica'\n",
            " 'Iris-setosa' 'Iris-virginica' 'Iris-setosa' 'Iris-versicolor'\n",
            " 'Iris-versicolor' 'Iris-versicolor' 'Iris-virginica' 'Iris-versicolor'\n",
            " 'Iris-versicolor' 'Iris-versicolor' 'Iris-versicolor' 'Iris-setosa'\n",
            " 'Iris-versicolor' 'Iris-versicolor' 'Iris-setosa' 'Iris-setosa'\n",
            " 'Iris-virginica' 'Iris-versicolor' 'Iris-setosa' 'Iris-setosa'\n",
            " 'Iris-virginica' 'Iris-setosa' 'Iris-setosa' 'Iris-versicolor'\n",
            " 'Iris-versicolor' 'Iris-setosa']\n",
            "\n",
            "\n",
            "Accuracy Score on test data : \n",
            "\n",
            "\n",
            "1.0\n"
          ]
        }
      ]
    }
  ]
}